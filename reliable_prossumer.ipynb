{
  "nbformat": 4,
  "nbformat_minor": 0,
  "metadata": {
    "colab": {
      "provenance": [],
      "authorship_tag": "ABX9TyOVOmSeoDhDYmYzzCC2Z0Tu",
      "include_colab_link": true
    },
    "kernelspec": {
      "name": "python3",
      "display_name": "Python 3"
    },
    "language_info": {
      "name": "python"
    }
  },
  "cells": [
    {
      "cell_type": "markdown",
      "metadata": {
        "id": "view-in-github",
        "colab_type": "text"
      },
      "source": [
        "<a href=\"https://colab.research.google.com/github/pedrotorres08/CNPQuniversal/blob/main/reliable_prossumer.ipynb\" target=\"_parent\"><img src=\"https://colab.research.google.com/assets/colab-badge.svg\" alt=\"Open In Colab\"/></a>"
      ]
    },
    {
      "cell_type": "markdown",
      "source": [
        "# **1- Introduction**<br>\n",
        "**1.1 - Definitions**<br>\n",
        "*Reliable prossumer* (RP): a low-voltage prossumer connected to the microgrid (POC MG) that has both distributed generation and distributed storage, and is able to operate off-grid for a certain period. In this project, it is assumed that the distributed generation is PV, and storage is a BESS\n",
        "<br>\n",
        "\n",
        "*   $P_{MG}$ - microgrid input power\n",
        "*   $P_{BESS}$ - BESS power (optimizable)\n",
        "*   $P_{IN}$ - Power of inflexible, non-critical loads\n",
        "*   $P_{FN}$ - Power of flexible, non-critical loads (optimizable)\n",
        "*   $P_{IC}$ - Power of inflexible, critical loads\n",
        "*   $P_{FC}$ - Power of flexible, critical loads (optimizable)\n",
        "*   $P_{DPV}$ - Distributed PV power\n",
        "<br><br>\n",
        "Here we define a flexible load those that have a certain degree of flexibility in its operation scheduling on a day-ahead basis (opposing to inflexible ones) and critical loads are those that for a given day-ahead schedule MUST operate irrespective of external source availability (i.e. MG), while non-critical loads are not constrained in this regard. Load classification varies from user-specific needs, but some examples can be given:<br>\n",
        "*   Inflexible, non-critical: lighting \n",
        "*   Flexible, non-critical: entertaining (TV, etc)\n",
        "*   Inflexible, critical: PC + internet for home office\n",
        "*   Flexible, critical: electric shower\n",
        "<br><br>\n",
        "\n",
        "![image.png](data:image/png;base64,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)\n",
        "Power balance equation (time index omitted):<br>\n",
        "$P_{MG}  = P_{BESS} + P_{FC} +  P_{IC} +  P_{FN} +  P_{IN} - P_{DPV}$<br>\n",
        "\n",
        "**1.2 - Cost Function**<br>\n",
        "The prossumer energy contract with the microgrid supplier is based on a day-ahead TOU tariff scheme, and also accounts the reliability of supply:\n",
        "<br>\n",
        "$C_{ES,t} = r_{t}*k_{t}*P_{MG,t} - p_{t}*r_{t}$<br>\n",
        "Where:<br>\n",
        "*   $C_{ES,t}$ - cost of energy supply, at a given time t<br>\n",
        "*   $r_{t}$ - probability of guaranteed service at a given time t<br>\n",
        "*   $p_{t}$ - penalty factor due unavailability of supply<br>\n",
        "*   $k_{t}$ - energy supply tariff, at a given time t, in $/kWh<br>\n",
        "\n",
        "$r_{t}$ is the probability of guaranteed service by the energy supply provider (ESP), on a TOU day-ahead basis, where $r_{t} = 1$ indicates that the ESP is 100 % confident that service will be available at a given time t in the next day. When a severe storm is forecasted, for instance, the ESP might reduce its confidence in service, thus adjusting $r_{t}$.<br>\n",
        "$p_{t}$ is the penalty factor that accounts for interruptions in energy supply. This can be understood as a discount applied to the overall energy supply cost whenever service is interrupted. As $p_{t}$ is multiplied by $r_{t}$ the ESP is incentivized to determine accurate values for $r_{t}$ which in turn is an important input for the prossumer local energy scheduling.\n",
        "\n",
        "**1.3 - Energy Management Controller**<br>\n",
        "The RP energy management controller (EMC) schedules/dispatches the following variables: $P_{BESS}$, $P_{FC}$, $P_{FN}$. While $P_{DPV}$, $P_{IC}$, $P_{IN}$ are inputs that must be internally forecasted by the RP EMC. $r_{t}$, $p_{t}$ and $k_{t}$ are inputs external to the RP."
      ],
      "metadata": {
        "id": "q3U4JxFpomJY"
      }
    },
    {
      "cell_type": "markdown",
      "source": [
        "## **2 - Optimization model**\n",
        "**2.1 - Cost Function**<br>\n",
        "$min(\\sum_{t=1}^{nt} C_{ES,t})$<br>where $nt$ is the number of timeslots for daily simulation (e.g. $nt = 24$ for an hourly timestep)<br><br>\n",
        "\n",
        "**2.2 - Inputs**<br>\n",
        "$r_{t}$, $p_{t}$, $k_{t}$, $P_{DPV,t}$, $\\sum_{i=1}^{N_{IC}}P_{IC,i,t}$, $\\sum_{i=1}^{N_{IN}}P_{IN,i,t}$<br>\n",
        "where $N_{IN}$ is the number of inflexible, non-critical loads, and $N_{IC}$ is the number of inflexible, critical loads. <br><br>\n",
        "\n",
        "**2.3 - Optimizing Variables**<br>\n",
        "$P_{BESS,t}$, $\\sum_{i=1}^{N_{FC}}P_{FC,i,t}$, $\\sum_{i=1}^{N_{FN}}P_{FN,i,t}$<br>\n",
        "where $N_{FN}$ is the number of flexible, non-critical loads, and $N_{FC}$ is the number of flexible, critical loads. <br><br>\n",
        "\n",
        "**2.4 - Constraints**<br>\n"
      ],
      "metadata": {
        "id": "JovofmtqirqI"
      }
    },
    {
      "cell_type": "markdown",
      "source": [
        "## **3 - Implementation**"
      ],
      "metadata": {
        "id": "g5QGXR5luU5z"
      }
    },
    {
      "cell_type": "code",
      "source": [
        "#Conexao ao google drive\n",
        "from google.colab import drive\n",
        "drive.mount('/content/drive')"
      ],
      "metadata": {
        "colab": {
          "base_uri": "https://localhost:8080/"
        },
        "id": "JPfnOkXz0IMh",
        "outputId": "74d04db2-3c3d-4673-a747-3e1c4fa265bc"
      },
      "execution_count": 17,
      "outputs": [
        {
          "output_type": "stream",
          "name": "stdout",
          "text": [
            "Mounted at /content/drive\n"
          ]
        }
      ]
    },
    {
      "cell_type": "code",
      "source": [
        "#Instalar PVlib\n",
        "!pip install -q pvlib\n",
        "\n",
        "#Importar bibliotecas\n",
        "import numpy as np\n",
        "import pandas as pd\n",
        "import matplotlib.pyplot as plt\n",
        "import os\n",
        "import itertools\n",
        "import pvlib\n",
        "from pvlib import clearsky, atmosphere, solarposition\n",
        "from pvlib.location import Location\n",
        "from pvlib.iotools import read_tmy3\n",
        "from pvlib import pvsystem, modelchain"
      ],
      "metadata": {
        "id": "Zdcnf65f2WpX"
      },
      "execution_count": 42,
      "outputs": []
    },
    {
      "cell_type": "code",
      "source": [
        "#Definicoes iniciais\n",
        "nt = 96 #Numero de timeslots"
      ],
      "metadata": {
        "id": "RGsGhBLf8gaj"
      },
      "execution_count": 45,
      "outputs": []
    },
    {
      "cell_type": "code",
      "source": [
        "#Ler Curva de Carga\n",
        "filenameCCbt = r'/content/drive/MyDrive/DADOS_TESE/AUXILIARES_BDGD/CURVAS/TIP_CC_20200821_BT.parquet'\n",
        "filenameCCmt = r'/content/drive/MyDrive/DADOS_TESE/AUXILIARES_BDGD/CURVAS/TIP_CC_20200821_MT.parquet'\n",
        "CCbt = pd.read_parquet(filenameCCbt)\n",
        "CCmt = pd.read_parquet(filenameCCmt)"
      ],
      "metadata": {
        "id": "-w8B-UIb1-vN"
      },
      "execution_count": 20,
      "outputs": []
    },
    {
      "cell_type": "code",
      "source": [
        "#Forecast FV (clear sky)\n",
        "x_coord = -48\n",
        "y_coord = 2\n",
        "z_coord = 0\n",
        "t0 = '2022-07-14 00:00'\n",
        "tf = '2022-07-14 23:45'\n",
        "freqfv = '15min'\n",
        "gmt_fv = 'Brazil/East'\n",
        "\n",
        "#Distributed PV generation\n",
        "tilt_angle = 10\n",
        "azimuth = 0\n",
        "Pfv = 5.0 #Potencia em kWp\n",
        "Pinv = 4.2 #Potencia em kW\n",
        "\n",
        "loc = Location(y_coord, x_coord, gmt_fv, z_coord)\n",
        "times = pd.date_range(start=t0, end=tf, freq=freqfv, tz=loc.tz)\n",
        "cs = loc.get_clearsky(times)\n",
        "\n",
        "array_kwargs = dict(module_parameters=dict(pdc0=Pfv, gamma_pdc=-0.004),temperature_model_parameters=dict(a=-3.56, b=-0.075, deltaT=3))\n",
        "arrays = [pvsystem.Array(pvsystem.FixedMount(tilt_angle, azimuth), name='Gerador FV',**array_kwargs)]\n",
        "system = pvsystem.PVSystem(arrays=arrays, inverter_parameters=dict(pdc0=Pinv))\n",
        "mc = modelchain.ModelChain(system, loc, aoi_model='physical',spectral_model='no_loss')\n",
        "mc.run_model(cs)\n",
        "\n",
        "mc.results.ac.plot(label='Pfv_CA')\n",
        "plt.ylabel('P [kW]')\n",
        "plt.show()\n",
        "\n",
        "#Pdpv\n",
        "Pdpv = mc.results.ac"
      ],
      "metadata": {
        "colab": {
          "base_uri": "https://localhost:8080/",
          "height": 277
        },
        "id": "Et8yed212cYO",
        "outputId": "3a373869-fbbd-4942-891c-2f51f6b1fdde"
      },
      "execution_count": 43,
      "outputs": [
        {
          "output_type": "display_data",
          "data": {
            "text/plain": [
              "<Figure size 432x288 with 1 Axes>"
            ],
            "image/png": "[encoded data removed]"
          },
          "metadata": {
            "needs_background": "light"
          }
        }
      ]
    },
    {
      "cell_type": "code",
      "source": [
        "#Inputs de custo\n",
        "r = 1.0*np.ones(nt) #probability of guaranteed service\n",
        "p = 2.5*np.ones(nt) #penalty factor due unavailability of supply\n",
        "k = 0.5*np.ones(nt) #energy supply tariff $/kWh"
      ],
      "metadata": {
        "id": "pLvSuZfO7QMs"
      },
      "execution_count": 46,
      "outputs": []
    }
  ]
}